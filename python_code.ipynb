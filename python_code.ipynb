{
 "cells": [
  {
   "cell_type": "markdown",
   "metadata": {},
   "source": [
    "Import Data Files"
   ]
  },
  {
   "cell_type": "code",
   "execution_count": null,
   "metadata": {},
   "outputs": [],
   "source": [
    "import pandas as pd\n",
    "\n",
    "# Load tab-delimited files\n",
    "acct_demo = pd.read_csv(\"acct_demo.txt\", sep=\"\\t\")\n",
    "cust_trans = pd.read_csv(\"cust_trans.txt\", sep=\"\\t\")\n",
    "trans_type = pd.read_csv(\"trans_type.txt\", sep=\"\\t\")\n",
    "cust_amount = pd.read_csv(\"cust_amount.txt\", sep=\"\\t\")\n",
    "\n",
    "acct_demo.head()\n",
    "#cust_trans.head()\n",
    "#trans_type.head()\n",
    "#cust_amount.head()"
   ]
  },
  {
   "cell_type": "markdown",
   "metadata": {},
   "source": [
    "Group by "
   ]
  },
  {
   "cell_type": "code",
   "execution_count": null,
   "metadata": {},
   "outputs": [],
   "source": [
    "#Task 1: Create table cust_trans_1 with column month(yyyy mm) using cust_table \n",
    "\n",
    "cust_trans['date'] = pd.to_datetime(cust_trans['date'],format='%d-%m-%Y')\n",
    "cust_trans['month'] = cust_trans['date'].dt.strftime('%Y-%m')\n",
    "cust_trans_1 = cust_trans[['month']]\n",
    "print(cust_trans_1)"
   ]
  },
  {
   "cell_type": "code",
   "execution_count": null,
   "metadata": {},
   "outputs": [],
   "source": [
    "#Task 2 : Summarize the cust_trans_1 by cust_id and month with total amount as cust_amount_comp table \n",
    "\n",
    "cust_amount_comp = cust_trans.groupby(['cust_id', 'month'])['amount'].sum().reset_index()\n",
    "print(cust_amount_comp)"
   ]
  },
  {
   "cell_type": "markdown",
   "metadata": {},
   "source": [
    "Join"
   ]
  },
  {
   "cell_type": "code",
   "execution_count": null,
   "metadata": {},
   "outputs": [],
   "source": [
    "# Task 3: Left join with acct_demo to create cust_amt_type table\n",
    "\n",
    "cust_amt_type = pd.merge(cust_amount_comp, acct_demo, on='cust_id', how='left')\n",
    "cust_amt_type = cust_amt_type[['cust_id', 'month', 'cust_amount_comp', 'city', 'cust_type']]\n",
    "print(cust_amt_type)\n",
    "\n",
    "#raising error need to ask "
   ]
  },
  {
   "cell_type": "code",
   "execution_count": null,
   "metadata": {},
   "outputs": [],
   "source": [
    "#Task 4 : Summarize the cust_amt_type table by city to create cust_amt_city table with city and total amount and distinct cust_count\n",
    "\n",
    "cust_amt_city = cust_amt_type.groupby('city').agg(\n",
    "    total_amount=('cust_amount_comp', 'sum'),\n",
    "    cust_count=('cust_id', 'nunique')\n",
    ")\n",
    "print(cust_amt_city)\n",
    "#raising error need to ask "
   ]
  },
  {
   "cell_type": "markdown",
   "metadata": {},
   "source": [
    "Subsetting "
   ]
  },
  {
   "cell_type": "code",
   "execution_count": null,
   "metadata": {},
   "outputs": [],
   "source": [
    "#Task 5 : Create cust_(city_name) tables for each from cust_amt_citytable\n",
    "\n",
    "cust_city_tables = {}\n",
    "\n",
    "for city in cust_amt_city:  \n",
    "    cust_city_tables[f'cust_{city}'] = cust_amt_type[cust_amt_type['city'] == city]\n",
    "print(cust_city_tables)\n"
   ]
  },
  {
   "cell_type": "markdown",
   "metadata": {},
   "source": [
    "Transpose"
   ]
  },
  {
   "cell_type": "code",
   "execution_count": null,
   "metadata": {},
   "outputs": [],
   "source": [
    "#Task 6: Create_month_trans table using cust_amount_comp table with monthly amount as columns\n",
    "\n",
    "#no table named cust_amount_comp"
   ]
  },
  {
   "cell_type": "markdown",
   "metadata": {},
   "source": [
    "Row Level Functions"
   ]
  },
  {
   "cell_type": "code",
   "execution_count": null,
   "metadata": {},
   "outputs": [],
   "source": [
    "#Task 7:Create annual_total_amt columns (ex.total_2017_amt)using cust_trans table"
   ]
  }
 ],
 "metadata": {
  "kernelspec": {
   "display_name": "Python 3",
   "language": "python",
   "name": "python3"
  },
  "language_info": {
   "codemirror_mode": {
    "name": "ipython",
    "version": 3
   },
   "file_extension": ".py",
   "mimetype": "text/x-python",
   "name": "python",
   "nbconvert_exporter": "python",
   "pygments_lexer": "ipython3",
   "version": "3.13.0"
  }
 },
 "nbformat": 4,
 "nbformat_minor": 2
}
